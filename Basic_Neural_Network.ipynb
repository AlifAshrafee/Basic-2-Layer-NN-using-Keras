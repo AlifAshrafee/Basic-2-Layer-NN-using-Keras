{
  "nbformat": 4,
  "nbformat_minor": 0,
  "metadata": {
    "colab": {
      "name": "Basic Neural Network.ipynb",
      "provenance": []
    },
    "kernelspec": {
      "name": "python3",
      "display_name": "Python 3"
    }
  },
  "cells": [
    {
      "cell_type": "markdown",
      "metadata": {
        "id": "Ta-ipdFRi2oq"
      },
      "source": [
        "##Importing Necessary Dependencies"
      ]
    },
    {
      "cell_type": "code",
      "metadata": {
        "id": "qh4CTkqxg7s5"
      },
      "source": [
        "import numpy as np\r\n",
        "\r\n",
        "import keras\r\n",
        "from keras.models import Sequential\r\n",
        "from keras.layers import Dense"
      ],
      "execution_count": 4,
      "outputs": []
    },
    {
      "cell_type": "markdown",
      "metadata": {
        "id": "mhGzQaqPlw4S"
      },
      "source": [
        "##Generating some random data based on diagram dimensions"
      ]
    },
    {
      "cell_type": "code",
      "metadata": {
        "id": "a7QfQQYClDML"
      },
      "source": [
        "X_train = np.random.randn(100, 2)   #100 training samples. Each with 2 features\r\n",
        "Y_train = np.random.randn(100, 1)   #100 labels"
      ],
      "execution_count": 8,
      "outputs": []
    },
    {
      "cell_type": "markdown",
      "metadata": {
        "id": "Bzzn9abDjFA2"
      },
      "source": [
        "##Building The Neural Network"
      ]
    },
    {
      "cell_type": "code",
      "metadata": {
        "id": "VNxNi5-4jH-6"
      },
      "source": [
        "model = Sequential()\r\n",
        "model.add(Dense(4, input_dim = 2, activation='relu'))    #hidden layer has 4 nodes\r\n",
        "model.add(Dense(1, activation='sigmoid'))    #output layer has 1 node"
      ],
      "execution_count": 2,
      "outputs": []
    },
    {
      "cell_type": "code",
      "metadata": {
        "id": "e05Nuec8kexs"
      },
      "source": [
        "model.compile(loss='binary_crossentropy', optimizer='adam', metrics=['accuracy'])"
      ],
      "execution_count": 3,
      "outputs": []
    },
    {
      "cell_type": "code",
      "metadata": {
        "id": "o8uao3S2kxA6"
      },
      "source": [
        "training = model.fit(X_train, Y_train, epochs = 100, batch_size = 8)"
      ],
      "execution_count": null,
      "outputs": []
    }
  ]
}